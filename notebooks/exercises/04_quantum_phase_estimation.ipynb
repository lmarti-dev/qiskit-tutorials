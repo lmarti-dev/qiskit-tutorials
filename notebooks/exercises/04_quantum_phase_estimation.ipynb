{
 "cells": [
  {
   "cell_type": "markdown",
   "metadata": {},
   "source": [
    "# Quantum Phase Estimation\n",
    "\n",
    "In this notebook, we'll look at one of the most useful applications of the Quantum Fourier Transform we saw last week. \n",
    "\n",
    "Here's the problem in very simple terms: we are given some state $|\\psi\\rangle$, some unitary operator $U$, such that $U|\\psi\\rangle = e^{2\\pi i \\theta} |\\psi\\rangle$; the goal of phase estimation is to estimate the phase $\\theta$.\n",
    "\n",
    "In the problem, we assume we can implement $U$ and powers of two of $U$ ($U^{2^{j}}$) in a quantum circuit, as well as controlled versions of these.\n",
    "\n",
    "In the QPE circuit we will implement we have two sets of qubits (we call those _registers_). The first register contains $t$ qubits which will represent (in binary) the phase $\\theta$, up to accuracy $2^{-t}$, and the second register will store the actual state $|\\psi\\rangle$.\n",
    "\n",
    "Before we move on, let's introduce some quick notation. $|+\\rangle= \\frac{1}{\\sqrt{2}} (|0\\rangle+|1\\rangle)$, and $|-\\rangle= \\frac{1}{\\sqrt{2}} (|0\\rangle-|1\\rangle)$. That's it.\n",
    "\n",
    "The main trick to be identified here is as follow. Let's assume we have one qubit in the first register, and that we start in the state $|+\\rangle |\\psi\\rangle$. Applying a controlled $U^{k}$ on $|\\psi\\rangle$ with the first qubit as control, we get \n",
    "\n",
    "$\\begin{array}{ll}U^k (|+\\rangle |\\psi\\rangle)&= |0\\rangle|\\psi\\rangle + |1\\rangle U^k |\\psi\\rangle \\\\\n",
    "&= |0\\rangle|\\psi\\rangle + |1\\rangle U^{k-1} U |\\psi\\rangle \\\\\n",
    "&= |0\\rangle|\\psi\\rangle + |1\\rangle U^{k-1} e^{2\\pi i \\theta}  |\\psi\\rangle \\\\\n",
    "&= |0\\rangle|\\psi\\rangle + |1\\rangle e^{2\\pi k i \\theta}  |\\psi\\rangle \n",
    " \\end{array}$\n",
    "\n",
    "Thus, if we apply $U$ on $|\\psi\\rangle$ with $q_0$ as control, then $U^2$ with $q_1$, $U^4$ with $q_2$, and so on, we can write out the state of the $t$ qubits of the first register: $\\frac{1}{\\sqrt{2^{t}}}\\sum_{k=0}^{2^t-1}e^{2\\pi i \\theta k}|k\\rangle$.\n",
    "\n",
    "Now comes the most important part: you clearly see that the qubits have the form of a Quantum Fourier transformed register that we introduced last week (and it is clear that the values in the register represent a periodic function). So when we've applied all these phases to our qubits, all we need to do is apply an iQFT to get the bitstring $|\\theta_0...\\theta_{t-1}\\rangle$, which represents the binary expansion notation of the frequency $\\theta$, as we described in last week's notebook.  \n",
    "\n",
    "Alright, time to write this down. Let's have our tradition of installing everything first."
   ]
  },
  {
   "cell_type": "code",
   "execution_count": 3,
   "metadata": {},
   "outputs": [
    {
     "name": "stdout",
     "output_type": "stream",
     "text": [
      "Note: you may need to restart the kernel to use updated packages.\n",
      "Note: you may need to restart the kernel to use updated packages.\n"
     ]
    }
   ],
   "source": [
    "%pip install qiskit[visualization] --quiet\n",
    "%pip install matplotlib --quiet"
   ]
  },
  {
   "cell_type": "markdown",
   "metadata": {},
   "source": [
    "Let's write a simple function for the unitary operator $U$ (and all related powers). We'll make a random unitary function so that we can try our QPE algorithm multiple times.\n",
    "\n",
    "There's an easy trick to create a random unitary: create a random Hamiltonian matrix $H$ with $R + R^{\\dagger}$, where $R$ is a random complex matrix. Then, take $e^{iH}$ (it should be obvious why this is unitary). I already wrote a function for that, within a for-loop because we will need all the $U^{2^j}$ powers of the $U$ matrix right away.\n",
    "\n",
    "A little Python commentary here: in the `random_unitary_iter` I use the `yield` keyword. This creates an _iterable_ from the function. In a sense, it's kind of equivalent to creating a list and adding items to it, except, in the `yield` case, I don't know in advance what the list is like, its length, etc. The main advantage is that I don't need to compute everything first, and I can defer the computations to the for-loop. Since in quantum computing we may go to larger matrices, the list could grow heavy in size. The iterable allows us to avoid potential memory errors. "
   ]
  },
  {
   "cell_type": "code",
   "execution_count": 34,
   "metadata": {},
   "outputs": [],
   "source": [
    "from typing import Iterable\n",
    "\n",
    "import numpy as np\n",
    "from qiskit import QuantumCircuit\n",
    "from qiskit.circuit.library import UnitaryGate\n",
    "from scipy.linalg import expm\n",
    "\n",
    "def random_unitary_iter(r1:int,r2:int)->Iterable:\n",
    "    rham = np.random.rand(2**r2,2**r2) + 1j*np.random.rand(2**r2,2**r2)\n",
    "    rham += np.conj(np.transpose(rham))\n",
    "    irham = 1j*rham\n",
    "    for m in range(r1):\n",
    "        rut=expm((2**m)*irham)\n",
    "        rut/np.trace(rut)\n",
    "        yield rut\n",
    "\n",
    "def controlled_U_gate(circ:QuantumCircuit,ctrl:int,targs:list,rut:np.ndarray)->None:\n",
    "    rut_gate=UnitaryGate(rut)\n",
    "    crut_gate = rut_gate.control(1)\n",
    "    circ.append(crut_gate,qargs=[ctrl,*targs])\n"
   ]
  },
  {
   "cell_type": "markdown",
   "metadata": {},
   "source": [
    "Alright, now that we have our unitaries, we can build the circuit. The setup is as follows. We apply Hadamards to the first register, then apply controlled $U^{2^j}$ on the second register controlled by $q_j$, and finally, we use an iQFT to get the number back. \n",
    "\n",
    "This week, there's no exercise, you can just watch the magic happen!\n",
    "\n",
    "Quick remark on applying gates: in Qiskit, you can apply a gate to an `int` (the index of the qubit), a `list` of `int` (multiple qubits), or a full `QuantumRegister` (also multiple qubits). The advantage of using the last method is that your circuit remember your different registers, and you don't need to remember them yourself. You can access the first register from the circuit by using `circ.qregs[0]` for example. This allows you to keep track of the different groups of qubits defined in the circuit without remembering their specific indices.\n",
    "\n",
    "In the case of QPE, it's very useful, since we deal with two well-defined registers.\n"
   ]
  },
  {
   "cell_type": "code",
   "execution_count": 171,
   "metadata": {},
   "outputs": [],
   "source": [
    "from typing import Tuple\n",
    "\n",
    "from qiskit import QuantumRegister\n",
    "from qiskit.result import Counts\n",
    "from qiskit.circuit.library import QFT\n",
    "from qiskit.quantum_info import Statevector\n",
    "import matplotlib.pyplot as plt\n",
    "\n",
    "def plot_counts(counts:Counts):\n",
    "    plt.plot(\n",
    "        range(len(counts.int_outcomes().values())),\n",
    "        np.abs(list(counts.int_outcomes().values())),\n",
    "        \"rs:\",\n",
    "        markerfacecolor='none',\n",
    "        label=\"counts\"\n",
    "    )\n",
    "    plt.legend()\n",
    "    plt.show()\n",
    "\n",
    "def get_random_phase_and_psi(unitary:np.ndarray)->np.ndarray:\n",
    "    eigvals,eigvecs=np.linalg.eig(unitary)\n",
    "    idx = np.random.randint(0,len(eigvals))\n",
    "\n",
    "    # eigval = e^{2pi i theta}\n",
    "    eigval = eigvals[idx]\n",
    "    phase = np.real(-1j * np.log(eigval)/(2*np.pi))\n",
    "    phase = np.mod(phase,1)\n",
    "    psi = eigvecs[:,idx]\n",
    "    return phase,psi\n",
    "\n",
    "def qpe_circuit(r1:int,r2:int)->Tuple[QuantumCircuit,float]:\n",
    "\n",
    "    first_register=QuantumRegister(r1,\"first\")\n",
    "    second_register=QuantumRegister(r2,\"second\")\n",
    "\n",
    "    circ = QuantumCircuit(first_register,second_register)\n",
    "    circ.h(first_register)\n",
    "\n",
    "    unitaries = random_unitary_iter(r1,r2)\n",
    "\n",
    "    get_phase_and_psi=True\n",
    "    for ind,unitary in enumerate(unitaries):\n",
    "        if get_phase_and_psi:\n",
    "            phase,psi= get_random_phase_and_psi(unitary)\n",
    "            get_phase_and_psi=False\n",
    "        \n",
    "        controlled_U_gate(circ=circ,ctrl=ind,targs=second_register,rut=unitary)\n",
    "\n",
    "    circ.append(QFT(num_qubits=len(first_register),inverse=True,do_swaps=True),qargs=first_register)\n",
    "\n",
    "    return circ,phase,psi\n",
    "\n",
    "def bitstring_idx_to_phase(index)->float:\n",
    "    bin(index)\n",
    "\n",
    "def get_phase_from_qpe_circuit(circ:QuantumCircuit,psi:np.ndarray)->float:\n",
    "    \n",
    "    out_circ = circ.copy_empty_like()\n",
    "\n",
    "    out_circ.prepare_state(state=psi,qubits=circ.qregs[1])\n",
    "    out_circ.append(circ,qargs=circ.qubits)\n",
    "    statevector = Statevector.from_instruction(out_circ)\n",
    "    \n",
    "    r1=len(out_circ.qregs[0])  \n",
    "    counts=statevector.sample_counts(1000,qargs=range(r1))\n",
    "    bitstring =counts.most_frequent()\n",
    "     \n",
    "    return np.sum([(int(v))*2**-(i+1) for i,v in enumerate(bitstring)])\n"
   ]
  },
  {
   "cell_type": "markdown",
   "metadata": {},
   "source": [
    "Ok, let's now test the QPE algorithm to see whether it's able to guess the eigenvalue of some eigenvector given some random $U$. If you get an error of $\\sim 0.001$ we should be good."
   ]
  },
  {
   "cell_type": "code",
   "execution_count": 172,
   "metadata": {},
   "outputs": [
    {
     "name": "stdout",
     "output_type": "stream",
     "text": [
      "trial 0 | correct: 0.55921, computed: 0.56250 err: 0.00329\n",
      "trial 1 | correct: 0.52604, computed: 0.52344 err: 0.00261\n",
      "trial 2 | correct: 0.79812, computed: 0.79688 err: 0.00124\n",
      "trial 3 | correct: 0.88955, computed: 0.89062 err: 0.00107\n",
      "trial 4 | correct: 0.22101, computed: 0.21875 err: 0.00226\n",
      "trial 5 | correct: 0.98838, computed: 0.99219 err: 0.00381\n",
      "trial 6 | correct: 0.94408, computed: 0.94531 err: 0.00123\n",
      "trial 7 | correct: 0.03668, computed: 0.03906 err: 0.00238\n",
      "trial 8 | correct: 0.76800, computed: 0.76562 err: 0.00237\n",
      "trial 9 | correct: 0.97625, computed: 0.97656 err: 0.00031\n"
     ]
    }
   ],
   "source": [
    "for trial in range(10):\n",
    "    circ,phase,psi = qpe_circuit(7,2)\n",
    "    computed_phase = get_phase_from_qpe_circuit(circ,psi)\n",
    "    print(f\"trial {trial} | correct: {phase:.5f}, guess: {computed_phase:.5f} err: {np.abs(phase-computed_phase):.5f}\")\n"
   ]
  }
 ],
 "metadata": {
  "kernelspec": {
   "display_name": "venv",
   "language": "python",
   "name": "python3"
  },
  "language_info": {
   "codemirror_mode": {
    "name": "ipython",
    "version": 3
   },
   "file_extension": ".py",
   "mimetype": "text/x-python",
   "name": "python",
   "nbconvert_exporter": "python",
   "pygments_lexer": "ipython3",
   "version": "3.10.11"
  }
 },
 "nbformat": 4,
 "nbformat_minor": 2
}
