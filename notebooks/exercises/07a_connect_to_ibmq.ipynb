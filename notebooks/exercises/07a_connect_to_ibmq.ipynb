{
 "cells": [
  {
   "cell_type": "markdown",
   "metadata": {},
   "source": [
    "# Running a quantum computation on IBM hardware\n",
    "\n",
    "this notebook will walk you through an actual _quantum_ computation.\n",
    "\n",
    "We will define a simple circuit, connect to IBMQ's runtime service, and sample our circuit using an available quantum computer.\n",
    "\n",
    "First of all, make sure you are registered on [IBM quantum](https://quantum.ibm.com). Create an IBMid by clicking on \"Create an IBMid\", and follow the instructions.\n",
    "\n",
    "You will get an API token, which will allow you to connect to the hardware. Your token is displayed on the top right of your homepage.\n",
    "\n",
    "Let's start by installing qiskit and qiskit_ibm_runtime, which allows us to connect to IBM's online service."
   ]
  },
  {
   "cell_type": "code",
   "execution_count": null,
   "metadata": {},
   "outputs": [],
   "source": [
    "%pip install qiskit[visualization] --quiet\n",
    "%pip install qiskit_ibm_runtime --quiet\n",
    "%pip install matplotlib --quiet\n",
    "%pip install qiskit-aer --quiet"
   ]
  },
  {
   "cell_type": "markdown",
   "metadata": {},
   "source": [
    "This parametrized circuit will be a simple example for us to try out hardware.\n",
    "\n",
    "It's got few gates and qubits, because we don't want to waste too much of our precious access time.\n",
    "\n",
    "Essentially, as we vary the parameter $\\phi$, we get from a computational basis state to an entangled one, then back to a computational basis state.\n",
    "\n",
    "In our quantum computation, we will get the expectation values of some observables for multiple values of $\\phi$. "
   ]
  },
  {
   "cell_type": "code",
   "execution_count": null,
   "metadata": {},
   "outputs": [],
   "source": [
    "from qiskit import QuantumCircuit\n",
    "from qiskit.circuit import Parameter\n",
    "\n",
    "circuit = QuantumCircuit(3, 3)\n",
    "phi = Parameter(\"phi\")\n",
    "circuit.rx(phi, 0)\n",
    "circuit.cx(0, 1)\n",
    "circuit.cx(1, 2)\n",
    "circuit.rz(phi, 2)\n",
    "\n",
    "circuit.draw(\"mpl\")"
   ]
  },
  {
   "cell_type": "markdown",
   "metadata": {},
   "source": [
    "We will measure the $ZZZ$ Pauli string and the $XXX$ Pauli string. Below, I define the Pauli strings and add them in an observable array."
   ]
  },
  {
   "cell_type": "code",
   "execution_count": null,
   "metadata": {},
   "outputs": [],
   "source": [
    "from qiskit.quantum_info import SparsePauliOp\n",
    "\n",
    "observables_labels = [\"XXX\", \"ZZZ\"]\n",
    "observables = [[SparsePauliOp(label)] for label in observables_labels]\n"
   ]
  },
  {
   "cell_type": "markdown",
   "metadata": {},
   "source": [
    "Let's define some helper functions to reuse through the notebook: one to sample the bitstrings, and one to estimate the observables, as well as the accompanying helper functions."
   ]
  },
  {
   "cell_type": "code",
   "execution_count": null,
   "metadata": {},
   "outputs": [],
   "source": [
    "from qiskit.quantum_info import Statevector\n",
    "from qiskit.primitives import StatevectorEstimator\n",
    "import numpy as np\n",
    "import matplotlib.pyplot as plt\n",
    "\n",
    "# we input a circuit and a number of samples, and obtain a dictionary of outcomes\n",
    "def sample_circuit(circuit: QuantumCircuit,n_shots:int,parameters:list=None) -> dict:\n",
    "    if parameters is None:\n",
    "        parameters = np.zeros((len(circuit.parameters),))\n",
    "    circuit = circuit.assign_parameters({p_circ: p_val for p_circ,p_val in zip(circuit.parameters,parameters)})\n",
    "    statevector = Statevector.from_instruction(circuit)\n",
    "    outcomes = statevector.sample_counts(n_shots)\n",
    "    return outcomes\n",
    "\n",
    "\n",
    "def sv_estimate_observables(\n",
    "    circuit: QuantumCircuit, observables: list, param_sweep: np.ndarray\n",
    "):\n",
    "    estimator = StatevectorEstimator()\n",
    "    pub = (circuit, observables, param_sweep)\n",
    "    job = estimator.run([pub])\n",
    "    result = job.result()[0]\n",
    "    return result\n",
    "\n",
    "\n",
    "# function that print all the outcomes\n",
    "def print_outcomes(outcomes: dict):\n",
    "    for bitstring, counts in outcomes.items():\n",
    "        print(f\"Obtained bitstring |{bitstring}> {counts} times.\")\n",
    "\n",
    "# plot result of simulation\n",
    "def plot_estimator_result(result, param_sweep, observables,overlay_param_sweep=None,overlay_result=None):\n",
    "    fig, ax = plt.subplots()\n",
    "    ax:plt.Axes\n",
    "\n",
    "    if overlay_result is not None and overlay_param_sweep is not None:\n",
    "        for ov_evs in overlay_result.data.evs:\n",
    "            ax.plot(overlay_param_sweep, ov_evs,color=\".5\",linewidth=.5)\n",
    "    for evs,stds,obs in zip(result.data.evs,result.data.stds,observables):\n",
    "        ax.errorbar(param_sweep, evs,stds, label=obs[0].paulis[0])\n",
    "    ax.legend()\n",
    "    ax.set_xlabel(\"$\\phi$\")\n",
    "    ax.set_ylabel(\"Expectation value\")\n",
    "    ax.set_xlim([-np.pi,np.pi])\n",
    "    plt.show()\n"
   ]
  },
  {
   "cell_type": "markdown",
   "metadata": {},
   "source": [
    "First, we perform a statevector simulation to compute the expectation values: this is the ideal outcome of the $\\phi$ sweep. We sweep $\\phi$ between $-\\pi$ and $\\pi$, with `n_params` defining the number of steps in the sweep. "
   ]
  },
  {
   "cell_type": "code",
   "execution_count": null,
   "metadata": {},
   "outputs": [],
   "source": [
    "n_params = 100\n",
    "fine_param_sweep = np.linspace(-np.pi, np.pi, n_params)\n",
    "\n",
    "ideal_result = sv_estimate_observables(\n",
    "    circuit=circuit, observables=observables, param_sweep=fine_param_sweep\n",
    ")\n",
    "plot_estimator_result(result=ideal_result, param_sweep=fine_param_sweep, observables=observables)"
   ]
  },
  {
   "cell_type": "markdown",
   "metadata": {},
   "source": [
    "Let's take a look at the bitstring counts as we sweep $\\phi$. We use our sampler function to see the ratio of bitstring as $\\phi$ changes."
   ]
  },
  {
   "cell_type": "code",
   "execution_count": null,
   "metadata": {},
   "outputs": [],
   "source": [
    "outcomes={}\n",
    "n_shots=1000\n",
    "bitstring_counts={}\n",
    "\n",
    "# rearrange the dictionaries to get a plottable object\n",
    "for p in fine_param_sweep:\n",
    "    outcomes[p] = sample_circuit(circuit=circuit,n_shots=n_shots,parameters=[p])\n",
    "for ind,k in enumerate(outcomes.keys()):\n",
    "    for bitstring, counts in outcomes[k].items():\n",
    "        if bitstring not in bitstring_counts.keys():\n",
    "            bitstring_counts[bitstring]=np.zeros((len(list(outcomes.keys()))))\n",
    "        bitstring_counts[bitstring][ind]=counts\n",
    "\n",
    "\n",
    "fig,ax = plt.subplots()\n",
    "for bitstring in bitstring_counts.keys():\n",
    "    ax.plot(fine_param_sweep,bitstring_counts[bitstring],label=bitstring)\n",
    "ax.legend()\n",
    "ax.set_xlabel(\"$\\phi$\")\n",
    "ax.set_ylabel(\"Bitstring count\")"
   ]
  },
  {
   "cell_type": "markdown",
   "metadata": {},
   "source": [
    "We now connect to the real quantum computer. You'll need to input your access token. You may directly copy-paste your token in the notebook like so: `token = \"abcd12345\"`.\n",
    "\n",
    "Using the `least_busy` method, we fetch the least occupied IBM device.\n",
    "\n",
    "We specify that we don't want a `simulator`, and that the computer should currently be `operational`. We also set the minimal number of qubits we require."
   ]
  },
  {
   "cell_type": "code",
   "execution_count": null,
   "metadata": {},
   "outputs": [],
   "source": [
    "from qiskit_ibm_runtime import QiskitRuntimeService\n",
    "\n",
    "token = ...\n",
    "service = QiskitRuntimeService(channel=\"ibm_quantum\", token=token)\n",
    "\n",
    "real_backend = service.least_busy(simulator=False, operational=True,min_num_qubits=3)"
   ]
  },
  {
   "cell_type": "markdown",
   "metadata": {},
   "source": [
    "Before jumping in the real hardware simulation, let's make sure our measure works correctly by simulating real hardware, with the use of a _fake backend_. We can use those to mimick the behaviour of real hardware, noise and all. I've picked FakeAthensV2, but there's a [whole list](https://docs.quantum.ibm.com/api/qiskit/0.37/providers_fake_provider) of fake backends you can choose from.\n",
    "\n",
    "Note that we need to be succesfully connected to IBM's servers to run these fake simulations, as the backend data live there.\n",
    "\n",
    "Okay, so we run our evaluation of the $ZZZ$ and $XXX$ observables again, this time using the fake hardware, and not an ideal statevector simulation.\n",
    "\n",
    "Again, make sure the cell above ran correctly and that you are properly connected to the RuntimeService. Otherwise, you may not get any results, or maybe an error."
   ]
  },
  {
   "cell_type": "code",
   "execution_count": null,
   "metadata": {},
   "outputs": [],
   "source": [
    "from qiskit_ibm_runtime.fake_provider import FakeAthensV2\n",
    "from qiskit_ibm_runtime import EstimatorV2\n",
    "from qiskit.transpiler.preset_passmanagers import generate_preset_pass_manager\n",
    "from qiskit_aer import AerSimulator\n",
    "\n",
    "def backend_estimate_observables(\n",
    "    backend, circuit: QuantumCircuit, observables: list, param_sweep: np.ndarray,n_shots:int\n",
    "):\n",
    "    estimator = EstimatorV2(backend)\n",
    "    pm = generate_preset_pass_manager(backend=backend, optimization_level=1)\n",
    "    isa_circuit = pm.run(circuit)\n",
    "\n",
    "    mapped_observables = [\n",
    "        [observable[0].apply_layout(isa_circuit.layout)] for observable in observables\n",
    "    ]\n",
    "\n",
    "    # now you specify precision rather than shots, but for our estimator, it's just\n",
    "    # shots = int(np.ceil(1.0 / precision**2))\n",
    "\n",
    "    job = estimator.run([(isa_circuit, mapped_observables, param_sweep)],precision=np.sqrt(1/n_shots))\n",
    "    result = job.result()[0]\n",
    "    return result\n",
    "\n",
    "n_shots=100\n",
    "fake_backend = FakeAthensV2()\n",
    "backend_sim = AerSimulator.from_backend(fake_backend)\n",
    "fake_result = backend_estimate_observables(\n",
    "    backend=backend_sim, circuit=circuit, observables=observables, param_sweep=fine_param_sweep,n_shots=n_shots\n",
    ")\n",
    "\n",
    "plot_estimator_result(\n",
    "    result=fake_result, \n",
    "    param_sweep=fine_param_sweep, \n",
    "    observables=observables,\n",
    "    overlay_param_sweep=fine_param_sweep,\n",
    "    overlay_result=ideal_result\n",
    "    )"
   ]
  },
  {
   "cell_type": "markdown",
   "metadata": {},
   "source": [
    "Now, we run the job on the quantum device. You can see the progress on the [jobs page](https://quantum.ibm.com/jobs).\n",
    "\n",
    "Be careful though: you only get 10 free minutes of hardware time per *month*!\n",
    "\n",
    "The example below should take 5 seconds of hardware time, with most of the wait due to the queue (which doesn't count towards your free minutes).\n",
    "\n",
    "If you've already run the job and want to reload the results without using more computation time, you can load the job using its key (something that looks like `crx13dfamspg1184b9xg` for example). In the code below, you can simply change the `which` variable from `run` to `load`. On your IBM homepage, you can find the job IDs on the left of the jobs list.\n",
    "\n",
    "In the very end, we plot the real hardware result alongside a fake backend reconstruction to see whether it was a good approximation of the real hardware.\n",
    "\n",
    "In order to run the job, set which to \"run\""
   ]
  },
  {
   "cell_type": "code",
   "execution_count": null,
   "metadata": {},
   "outputs": [],
   "source": [
    "n_shots = 10\n",
    "sparse_param_sweep=np.array((-2,-1,0,1,2))\n",
    "which=\"load\"\n",
    "\n",
    "if which == \"run\":\n",
    "    real_result=backend_estimate_observables(real_backend,circuit,observables=observables,param_sweep=sparse_param_sweep,n_shots=n_shots)\n",
    "elif which == \"load\":\n",
    "    job_key='crx14dshazpg0084b9xg'\n",
    "    job = service.job(job_key)\n",
    "    real_result = job.result()[0]\n",
    "\n",
    "\n",
    "print(\"HARDWARE RESULT\")\n",
    "# plot hardware results\n",
    "plot_estimator_result(\n",
    "    result=real_result, \n",
    "    param_sweep=sparse_param_sweep, \n",
    "    observables=observables,\n",
    "    overlay_param_sweep=fine_param_sweep,\n",
    "    overlay_result=ideal_result\n",
    "    )\n",
    "\n",
    "\n",
    "print(\"FAKE HARDWARE RESULT\")\n",
    "# simulate hardware results\n",
    "n_shots = 10\n",
    "fake_mimic_result = backend_estimate_observables(\n",
    "    backend=AerSimulator.from_backend(real_backend), \n",
    "    circuit=circuit, \n",
    "    observables=observables, \n",
    "    param_sweep=sparse_param_sweep,\n",
    "    n_shots=n_shots\n",
    ")\n",
    "\n",
    "# plot simulated hardware results\n",
    "plot_estimator_result(\n",
    "    result=fake_mimic_result, \n",
    "    param_sweep=sparse_param_sweep, \n",
    "    observables=observables,\n",
    "    overlay_param_sweep=fine_param_sweep,\n",
    "    overlay_result=ideal_result\n",
    "    )"
   ]
  },
  {
   "cell_type": "markdown",
   "metadata": {},
   "source": [
    "Alright, we've done an actual computation on a quantum computer! Next week, we'll do something that has actual value, rather than sweeping an arbitrary circuit."
   ]
  }
 ],
 "metadata": {
  "kernelspec": {
   "display_name": "venv",
   "language": "python",
   "name": "python3"
  },
  "language_info": {
   "codemirror_mode": {
    "name": "ipython",
    "version": 3
   },
   "file_extension": ".py",
   "mimetype": "text/x-python",
   "name": "python",
   "nbconvert_exporter": "python",
   "pygments_lexer": "ipython3",
   "version": "3.10.11"
  }
 },
 "nbformat": 4,
 "nbformat_minor": 2
}
