{
 "cells": [
  {
   "cell_type": "markdown",
   "metadata": {},
   "source": [
    "# Quantum Phase Estimation on IBM hardware\n",
    "\n",
    "Now that you should be properly registered with IBM and able to run programs on their quantum devices, it's time to compute something useful. \n",
    "\n",
    "In this notebook we're going to do just that with the Quantum Phase Estimation algorithm, which we saw about three weeks ago. Since we stay in the Qiskit ecosystem, we'll be able to reuse a lot of code we've built before.\n",
    "\n",
    "As you've seen last week, quantum computers usually suffer from noise. Here we'll be able to compare that directly with our noiseless experience in the original quantum phase estimation notebook.\n",
    "\n",
    "To motivate you perhaps a bit more, note that such hardware runs are actually quite hard. For example, a somewhat recent preprint ran Shor's algorithm -- whose crucial component is QPE -- on 10 qubits. So in this notebook we're not necessarily going for state-of-the-art results, but still something very much non-trivial.\n",
    "\n",
    "If you follow this notebook to the end, you'll be able to get **the bonus** which counts for one blackboard presentation (meaning you still need to do one presentation to get the full bonus, but not two)\n",
    "\n",
    "Before we start anything, the first step to get **the bonus** is to write your name and idm number in this cell and run it:"
   ]
  },
  {
   "cell_type": "code",
   "execution_count": null,
   "metadata": {},
   "outputs": [],
   "source": [
    "your_name = ...\n",
    "your_idm = ..."
   ]
  },
  {
   "cell_type": "markdown",
   "metadata": {},
   "source": [
    "\n",
    "OK let's `pip install`"
   ]
  },
  {
   "cell_type": "code",
   "execution_count": null,
   "metadata": {},
   "outputs": [],
   "source": [
    "%pip install qiskit[visualization] --quiet\n",
    "%pip install qiskit_ibm_runtime --quiet\n",
    "%pip install matplotlib --quiet\n",
    "%pip install qiskit-aer --quiet"
   ]
  },
  {
   "cell_type": "markdown",
   "metadata": {},
   "source": [
    "As stated before, let's reuse all our QPE code. This time, we'll be trying to solve a more interesting model than simply a random unitary $U$: we'll be studying some Hamiltonian, as we did in the parametrized gate notebook. Since we want to make this an actually interesting result, but we will have to deal with noise, we'll go with a very simple Ising model, simpler than the one we saw back then:\n",
    "\n",
    "$$ H = J \\sum_i Z_i Z_{i+1} $$\n",
    "\n",
    "and we'll pick the ground state of the model, that is $|E_0\\rangle=|1010...0101\\rangle$. It can also be $|010101...10\\rangle$ Generally, notice that since $ZZ|10\\rangle = -|10\\rangle$, and $ZZ|01\\rangle = -|01\\rangle$ but $ZZ|11\\rangle = |11\\rangle$ and $ZZ|00\\rangle = |00\\rangle$ the ground states are easy to find. We'll try to guess its phase using the IBM quantum device. The phase in question will actually be the eigenenergy of the ground state, since\n",
    "\n",
    "$$ e^{iHt}|E_0\\rangle=\\sum_k \\frac{(it)^k H^k}{k!}|E_0\\rangle=\\sum_k \\frac{(it)^k E_0^k}{k!}|E_0\\rangle=e^{iE_0 t}|E_0\\rangle$$\n",
    "\n",
    "Notice that we need to be careful, since there might exist $E_j=E_0 + 2\\pi n$, and we can't distinguish them (because the exponential is periodic.) This means we need to pick a $t$ which is ensures the differnet eigenvalues don't overlap.\n",
    "\n",
    "Below are a lot of new utility functions, adapted from the previous notebooks. We'll use them to move from bitstring to index, from energy to phase and so on. They are not conceptually critical, but necessary to run the functions correctly."
   ]
  },
  {
   "cell_type": "code",
   "execution_count": null,
   "metadata": {},
   "outputs": [],
   "source": [
    "from typing import Iterable, Union\n",
    "\n",
    "import numpy as np\n",
    "from qiskit import QuantumCircuit, QuantumRegister, ClassicalRegister\n",
    "from qiskit.circuit.library import QFT, PauliEvolutionGate\n",
    "from qiskit.quantum_info import SparsePauliOp, Statevector\n",
    "from qiskit.result import Counts\n",
    "from qiskit.visualization import plot_histogram\n",
    "\n",
    "\n",
    "def from_bitstring(n_qubits: int, bitstring: str) -> int:\n",
    "    if isinstance(bitstring, str):\n",
    "        ind = np.sum([2 ** (n_qubits - 1 - int(b)) for b in bitstring])\n",
    "        return ind\n",
    "    else:\n",
    "        return bitstring\n",
    "\n",
    "\n",
    "def to_bitstring(n_qubits: int, ind: str) -> int:\n",
    "    return format(ind, \"0{lp}b\".format(lp=n_qubits))\n",
    "\n",
    "\n",
    "def time_evolution_unitaries(r1: int, ham: np.ndarray, time: float) -> Iterable:\n",
    "    for m in range(r1):\n",
    "        rut = PauliEvolutionGate(ham, time=-time * (2**m))\n",
    "        yield rut\n",
    "\n",
    "\n",
    "def controlled_U_gate(\n",
    "    circ: QuantumCircuit, ctrl: int, targs: list, pauli_evgate: PauliEvolutionGate\n",
    ") -> None:\n",
    "    pauli_cevgate = pauli_evgate.control(1)\n",
    "    circ.append(pauli_cevgate, qargs=[ctrl, *targs])\n",
    "\n",
    "\n",
    "def get_targets(hamiltonian: np.ndarray, idx: int) -> Union[float, np.ndarray, str]:\n",
    "    eigvals, eigvecs = np.linalg.eigh(hamiltonian)\n",
    "    if idx == -1:\n",
    "        idx = len(eigvals) - 1\n",
    "    target_energy = eigvals[idx]\n",
    "    n_qubits = int(np.log2(len(eigvals)))\n",
    "    target_state = eigvecs[:, idx]\n",
    "\n",
    "    target_state_bitstring = to_bitstring(n_qubits, int(np.argmax(target_state)))\n",
    "    return target_energy, target_state, target_state_bitstring\n",
    "\n",
    "\n",
    "def phase_from_counts(counts: dict) -> float:\n",
    "    counts = Counts(counts)\n",
    "    bitstring = counts.most_frequent()\n",
    "    fig = plot_histogram(counts)\n",
    "    return (\n",
    "        np.sum([(int(v)) * 2 ** -(i + 1) for i, v in enumerate(bitstring)]),\n",
    "        bitstring,\n",
    "        fig,\n",
    "    )\n",
    "\n",
    "\n",
    "def phase_from_statevector_simulation(\n",
    "    circ: QuantumCircuit, n_shots: int = 1000\n",
    ") -> Union[float, dict]:\n",
    "    statevector = Statevector.from_instruction(circ)\n",
    "    r1 = len(circ.qregs[0])\n",
    "    counts = statevector.sample_counts(n_shots, qargs=range(r1))\n",
    "    return *phase_from_counts(counts), counts\n",
    "\n",
    "\n",
    "def print_info(\n",
    "    target_phase: float,\n",
    "    computed_phase: float,\n",
    "    output_bitstring: str,\n",
    "    correct_bitstring: str,\n",
    ") -> None:\n",
    "    print(\n",
    "        f\"correct bitstring: {correct_bitstring} most frequent bitstring: {output_bitstring}\"\n",
    "    )\n",
    "    print(\n",
    "        f\"correct phase: {target_phase:.5f}, guessed phase: {computed_phase:.5f} err: {np.abs(target_phase-computed_phase):.5f}\"\n",
    "    )\n",
    "\n",
    "\n",
    "def get_correct_bitstring(target_phase: float, r1: int) -> str:\n",
    "    return to_bitstring(r1, int(np.round(target_phase * (2**r1))))\n",
    "\n",
    "\n",
    "def bitstring_preparation_circuit(circ: QuantumCircuit, bitstring: str) -> None:\n",
    "    x_gate_list = [\n",
    "        circ.qregs[1][ind]\n",
    "        for ind in range(len(bitstring))\n",
    "        if bitstring[::-1][ind] == \"1\"\n",
    "    ]\n",
    "    if x_gate_list != []:\n",
    "        circ.x(x_gate_list)"
   ]
  },
  {
   "cell_type": "markdown",
   "metadata": {},
   "source": [
    "Okay, now we write again the QPE circuit, slightly modified: we now take a Hamiltonian $H$ as argument, as well as a `time_scaling`, which allows us to change overall scaling of the time evolution.\n",
    "\n",
    "Of course, creating the circuit is your task. Write your code in the cell below:"
   ]
  },
  {
   "cell_type": "code",
   "execution_count": null,
   "metadata": {},
   "outputs": [],
   "source": [
    "def qpe_circuit(r1: int, ham: SparsePauliOp, target_idx: int, time_scaling: float):\n",
    "\n",
    "    r2 = ham.num_qubits\n",
    "    target_energy, target_state, target_state_bitstring = get_targets(\n",
    "        ham.to_matrix(), target_idx\n",
    "    )\n",
    "    target_phase = np.mod(target_energy * time_scaling / (2 * np.pi), 1)\n",
    "    \n",
    "    first_register = QuantumRegister(r1, \"first\")\n",
    "    second_register = QuantumRegister(r2, \"second\")\n",
    "    \n",
    "    \n",
    "    circ = QuantumCircuit(first_register, second_register)\n",
    "    time_unitaries = time_evolution_unitaries(r1, ham, time=time_scaling)\n",
    "\n",
    "    # CREATE the QPE circuit!\n",
    "    # hint: you have the controlled-U at your disposition above,\n",
    "    # and the bitstring_preparation_circuit function to prepare (in the second register)\n",
    "    # the state whose phase we estimate \n",
    "    # you can use the QFT from qiskit directly\n",
    "    # generally notebook 4 should be useful\n",
    "    \n",
    "\n",
    "    return circ, target_phase, target_state, target_state_bitstring"
   ]
  },
  {
   "cell_type": "markdown",
   "metadata": {},
   "source": [
    "Let's create the Hamiltonian we described in the beginning. It's the same as in notebook 3, but with the $X$ part out. If you feel you can take a stab at it, feel free to put it back in (you will need to generate the appropriate state though). \n",
    "\n",
    "Pick the number of qubits in the first and second registers, `r1` and `r2`: this will decide how big the simulation is, so don't go overboard.\n",
    "\n",
    "Write the Hamiltonian and the qubit numbers in the cell below:"
   ]
  },
  {
   "cell_type": "code",
   "execution_count": null,
   "metadata": {},
   "outputs": [],
   "source": [
    "r1=...\n",
    "r2=...\n",
    "\n",
    "# Write the Hamiltonian!\n",
    "\n",
    "hamiltonian:SparsePauliOp = ...\n"
   ]
  },
  {
   "cell_type": "markdown",
   "metadata": {},
   "source": [
    "Now that we've got the Hamiltonian, let's call the QPE circuit, and test whether it works in an ideal setting."
   ]
  },
  {
   "cell_type": "code",
   "execution_count": null,
   "metadata": {},
   "outputs": [],
   "source": [
    "time_scaling = 1\n",
    "target_idx = 0\n",
    "\n",
    "circ, target_phase, target_state, target_state_bitstring = qpe_circuit(\n",
    "    r1, hamiltonian, target_idx, time_scaling\n",
    ")\n",
    "correct_bitstring = get_correct_bitstring(target_phase, r1)\n",
    "sv_computed_phase, sv_output_bitstring, sv_fig, sv_counts = (\n",
    "    phase_from_statevector_simulation(circ)\n",
    ")\n",
    "\n",
    "\n",
    "print(\n",
    "    f\"QPE circuit has: Hamiltonian with {r2} qubits, phase estimation register with {r1} qubits.\"\n",
    ")\n",
    "print(\n",
    "    f\"The phase resolution is {2**(-r1)}: error should be smaller than this value.\"\n",
    ")\n",
    "print_info(target_phase, sv_computed_phase, sv_output_bitstring, correct_bitstring)\n",
    "sv_fig.suptitle(\"Statevector simulation\")\n",
    "# neat trick to show the figure in jupyter notebook\n",
    "sv_fig"
   ]
  },
  {
   "cell_type": "markdown",
   "metadata": {},
   "source": [
    "Okay, the results should hopefully be correct, the QPE algorithm finding something close enough to the correct value.\n",
    "\n",
    "Now, we need to create the link between our QPE circuit and the hardware. We can modify last week's notebook to fit that purpose. Since we only need to measure a single bitstring in the end, we will simply measure the bitstrings from the first register and see which one (hopefully the right one) is the most frequent. So we'll won't require any observables. We must, however, add a classical register to our circuit, to be able to sample it in an experimental setting."
   ]
  },
  {
   "cell_type": "code",
   "execution_count": null,
   "metadata": {},
   "outputs": [],
   "source": [
    "measurement_register = ClassicalRegister(r1, \"meas\")\n",
    "circ.add_register(measurement_register)\n",
    "circ.measure(circ.qregs[0], measurement_register)"
   ]
  },
  {
   "cell_type": "markdown",
   "metadata": {},
   "source": [
    "Let's see how that circuit looks now."
   ]
  },
  {
   "cell_type": "code",
   "execution_count": null,
   "metadata": {},
   "outputs": [],
   "source": [
    "circ_fig=circ.draw(\"mpl\")\n",
    "circ_fig"
   ]
  },
  {
   "cell_type": "markdown",
   "metadata": {},
   "source": [
    "(it should look like a QPE circuit)\n",
    "\n",
    "Now we need to connect to IBM to access the fake simulators. Again, you have to replace the `token = ...` part with your own access token."
   ]
  },
  {
   "cell_type": "code",
   "execution_count": null,
   "metadata": {},
   "outputs": [],
   "source": [
    "import io\n",
    "from qiskit_ibm_runtime import QiskitRuntimeService\n",
    "\n",
    "token = ...\n",
    "service = QiskitRuntimeService(channel=\"ibm_quantum\", token=token)"
   ]
  },
  {
   "cell_type": "markdown",
   "metadata": {},
   "source": [
    "Again, we make use of a _fake backend_ to pre-screen our results. Pick a fake backend from the IBM fake backend list, import it, and run the simulation. This doesn't cost any of your free IBM minutes. \n",
    "\n",
    "Note that we could also simulate a fake version of the real backend we want to use, by calling `AerSimulator.from_backend(real_backend)`, but we don't want to complicate things too much.\n",
    "\n",
    "Below, fill out the ellipsed parts (`...`):"
   ]
  },
  {
   "cell_type": "code",
   "execution_count": null,
   "metadata": {},
   "outputs": [],
   "source": [
    "from qiskit_ibm_runtime.fake_provider import ...\n",
    "from qiskit_ibm_runtime import SamplerV2, RuntimeJob\n",
    "from qiskit.transpiler.preset_passmanagers import generate_preset_pass_manager\n",
    "from qiskit_aer import AerSimulator\n",
    "\n",
    "\n",
    "def backend_sample(backend, circuit: QuantumCircuit, n_shots: int)->RuntimeJob:\n",
    "    estimator = SamplerV2(backend=backend)\n",
    "    pm = generate_preset_pass_manager(backend=backend, optimization_level=1)\n",
    "    isa_circuit = pm.run(circuit)\n",
    "    job = estimator.run([(isa_circuit,)], shots=n_shots)\n",
    "    return job\n",
    "\n",
    "\n",
    "def get_counts_from_job(job: RuntimeJob)->dict:\n",
    "    return job.result()[0].data.meas.get_counts()\n",
    "\n",
    "\n",
    "n_shots = ...\n",
    "fake_backend = ...\n",
    "# make sure we use the noisy simulator (use this one in the simulation)\n",
    "backend_sim = AerSimulator.from_backend(fake_backend)\n",
    "\n",
    "# sample the circuit with the desired backend\n",
    "fake_job_result = ...\n",
    "fake_counts = ...\n",
    "\n",
    "# print and plot results\n",
    "fake_computed_phase, fake_output_bitstring, fake_fig = phase_from_counts(fake_counts)\n",
    "print_info(target_phase, fake_computed_phase, fake_output_bitstring, correct_bitstring)\n",
    "fake_fig.suptitle(f\"Fake run on {fake_backend.name}\")\n",
    "fake_fig"
   ]
  },
  {
   "cell_type": "markdown",
   "metadata": {},
   "source": [
    "Alright, the results should be quite worse than before, still the correct bitstring should peak above the others, such that we are again able to estimate the phase.\n",
    "\n",
    "Now, we run the job on the Qiskit platform. You can see the progress on the [jobs page](https://quantum.ibm.com/jobs). \n",
    "\n",
    "We connect to a real quantum device backend as in the last notebook. Then we can finally run QPE on a real quantum computer! (how exciting)\n",
    "\n",
    "Here you have to:\n",
    "\n",
    "- Pick a number of shots. Between 100 and 1000 is a good choice, but you can also go higher (which will cost you more time). \n",
    "- Run the sampler with the correct backend, and get the counts\n",
    "- Set `which` to `run`, and you're good to go.\n",
    "- Replace all the ellipsis, generally speaking.\n",
    "\n",
    "Again, you can reload a job with `which=\"load\"` and the job id (as explained in the previous notebook.) \n"
   ]
  },
  {
   "cell_type": "code",
   "execution_count": null,
   "metadata": {},
   "outputs": [],
   "source": [
    "real_backend = service.least_busy(\n",
    "    simulator=False, operational=True, min_num_qubits=r1 + r2\n",
    ")\n",
    "\n",
    "n_shots = ...\n",
    "which = ...\n",
    "\n",
    "if which == \"run\":\n",
    "    real_job = ...\n",
    "elif which == \"load\":\n",
    "    job_key = ...\n",
    "    real_job = service.job(job_key)\n",
    "else:\n",
    "    raise ValueError(f\"Expected 'run' or 'load', got: {which}\")\n",
    "\n",
    "real_counts = ...\n",
    "real_computed_phase, real_output_bitstring, real_fig = phase_from_counts(real_counts)\n",
    "print_info(target_phase, real_computed_phase, real_output_bitstring, correct_bitstring)\n",
    "real_fig.suptitle(f\"Hardware run on {real_job._backend.name}\")\n",
    "real_fig"
   ]
  },
  {
   "cell_type": "markdown",
   "metadata": {},
   "source": [
    "**SPOILER ALERT** your results might not be very good because of noise. If you've gotten correct results in the first part of the exercise, and the hardware results are not, then it is very likely that the quantum device is very noisy, and the circuit's output is dominated by noise rather than by the signal"
   ]
  },
  {
   "cell_type": "markdown",
   "metadata": {},
   "source": [
    "## Get the bonus & wrap up\n",
    "\n",
    "Now if you want to get **the bonus**, you only need a couple more steps. Make sure your name and IDM are correct in the first cell, and run the cell below. It should generate a zip file in the current folder. Send this zip file to `lucas.marti@fau.de` and you will get the bonus. It's that simple. If you're on Google colab, there's a folder icon in the left-hand sidebar. The zip file should be there.\n",
    "\n",
    "If you want to get even more bonus (and the most satisfying bonus of all: knowledge), feel free to tinker with the notebook. \n",
    "\n",
    "We only went for a minimal version of QPE, but we're already quite advanced in terms of application, on the threshold of research one might say. If you were disappointed by the noisy results, you can look into error mitigation and post-selection. If you feel the Hamiltonian is too basic, you can add terms (but you need to know how to create the state). If you think we didn't have enough qubits in the experiment, know that the IBM hardware can go up to about a hundred qubits: you can scale up, but you won't be able to run a fake simulation to ensure the correctness of your results. There are also many ways to improve the algorithm itself, so that it runs in a shorter time. The sky's the limit. "
   ]
  },
  {
   "cell_type": "code",
   "execution_count": null,
   "metadata": {},
   "outputs": [],
   "source": [
    "import zipfile\n",
    "import json\n",
    "from datetime import datetime\n",
    "\n",
    "\n",
    "def fig_to_zip(fig, fn, zf):\n",
    "    fig_opts = {\"format\": \"pdf\", \"bbox_inches\": \"tight\", \"pad_inches\": 0.01}\n",
    "    buf = io.BytesIO()\n",
    "    fig.savefig(buf, **fig_opts)\n",
    "    zf.writestr(fn, buf.getvalue())\n",
    "\n",
    "\n",
    "def np_dict_to_dict(d):\n",
    "    return {k: int(v) for k, v in d.items()}\n",
    "\n",
    "\n",
    "job = real_job.__repr__()\n",
    "ham = str(hamiltonian)\n",
    "jobj = {\n",
    "    \"__timestamp\": datetime.today().strftime(\"%d/%m/%Y at %H:%M %Ss\"),\n",
    "    \"__jobj\": job,\n",
    "    \"__ham\": ham,\n",
    "    \"__name\": your_name,\n",
    "    \"__idm\": your_idm,\n",
    "    \"__fake_backend\": fake_backend.name,\n",
    "    \"__real_backend\": real_backend.name,\n",
    "    \"__sv_counts\": np_dict_to_dict(sv_counts),\n",
    "    \"__fake_counts\": np_dict_to_dict(fake_counts),\n",
    "    \"__real_counts\": np_dict_to_dict(real_counts),\n",
    "    \"__target_phase\": target_phase,\n",
    "    \"__correct_bitstring\": correct_bitstring,\n",
    "    \"__sv_computed_phase\": sv_computed_phase,\n",
    "    \"__sv_output_bitstring\": sv_output_bitstring,\n",
    "    \"__fake_computed_phase\": fake_computed_phase,\n",
    "    \"__fake_output_bitstring\": fake_output_bitstring,\n",
    "    \"__real_computed_phase\": real_computed_phase,\n",
    "    \"__real_output_bitstring\": real_output_bitstring,\n",
    "}\n",
    "\n",
    "zf_fpath = f\"./{your_name.replace(\" \",\"_\")}_{your_idm}.zip\"\n",
    "\n",
    "with zipfile.ZipFile(zf_fpath, mode=\"w\") as zf:\n",
    "    fig_to_zip(sv_fig, \"stevector_results.pdf\", zf)\n",
    "    fig_to_zip(fake_fig, \"fake_results.pdf\", zf)\n",
    "    fig_to_zip(real_fig, \"real_results.pdf\", zf)\n",
    "    fig_to_zip(circ_fig, \"circuit.pdf\", zf)\n",
    "\n",
    "    buf = io.BytesIO()\n",
    "    data = json.dumps(jobj, indent=4, ensure_ascii=False).encode()\n",
    "    buf.write(data)\n",
    "    zf.writestr(\"specs.json\", buf.getvalue())\n",
    "\n",
    "print(f\"Created {zf_fpath}\")\n",
    "print(\"Thank you for following along this Qiskit tutorial!\")"
   ]
  }
 ],
 "metadata": {
  "kernelspec": {
   "display_name": "venv",
   "language": "python",
   "name": "python3"
  },
  "language_info": {
   "codemirror_mode": {
    "name": "ipython",
    "version": 3
   },
   "file_extension": ".py",
   "mimetype": "text/x-python",
   "name": "python",
   "nbconvert_exporter": "python",
   "pygments_lexer": "ipython3",
   "version": "3.10.11"
  }
 },
 "nbformat": 4,
 "nbformat_minor": 2
}
