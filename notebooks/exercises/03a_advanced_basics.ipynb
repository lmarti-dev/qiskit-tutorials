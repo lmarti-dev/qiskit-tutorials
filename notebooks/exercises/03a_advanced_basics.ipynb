{
 "cells": [
  {
   "cell_type": "markdown",
   "metadata": {},
   "source": [
    "# Advanced basics\n",
    "\n",
    "In this notebook, we'll go over some very slightly more advanced concepts in quantum computing. You've seen that Clifford circuits can be effiently simulated; this is the Gottesman–Knill theorem. We want therefore to look into a kind of gate which provides not only the _magic_ (or non-stabilizerness) of quantum circuits, but also the the ability to create hybrid algorithms: parametrized gates.\n",
    "\n",
    "In this notebook, we'll go over simple parametrized gates and a very simple optimization example.\n",
    "\n",
    "Again, let's start by installing qiskit, as usual."
   ]
  },
  {
   "cell_type": "code",
   "execution_count": null,
   "metadata": {},
   "outputs": [],
   "source": [
    "%pip install qiskit[visualization] --quiet\n",
    "%pip install matplotlib --quiet\n",
    "%pip install scipy --quiet"
   ]
  },
  {
   "cell_type": "markdown",
   "metadata": {},
   "source": [
    "## Parametrized gates\n",
    "\n",
    "In this notebook, we'll consider three parametrized gates which are derived from Paulis: they are the exponentiated gates, i.e.\n",
    "$R\\sigma_j(\\theta) = e^{i\\theta \\sigma_j}$, where $j=X,Y,Z$ (the Pauli matrices). It is reasonable to ask how to implement those, and luckily there's a closed form we can get from the power expansion of the exponential. Then, we have\n",
    "$e^{i\\theta \\sigma_j} = \\cos(\\theta) I + i\\sin(\\theta) \\sigma_j$. \n",
    "\n",
    "For example, $RZ(\\theta)$ can be expressed in matrix form as\n",
    "\n",
    "$$RZ(\\theta) = \\begin{pmatrix} \\cos(\\theta) + i\\sin(\\theta) & 0 \\\\ 0 & \\cos(\\theta) - i\\sin(\\theta) \\end{pmatrix} = \\begin{pmatrix} e^{i\\theta} & 0 \\\\ 0 & e^{-i\\theta} \\end{pmatrix}$$\n",
    "\n",
    "All good, then let's see how that works in qiskit. \n",
    "\n",
    "We'll create a single qubit, apply a Hadamard gate, and then apply the $RZ$ gate to see how that affects the evolution. Note that in Qiskit there's a $1/2$ factor in the argument, such that $RZ_{qiskit}(\\theta) = RZ_{normal}(2\\theta)$. The reason for that is the simplification of the $\\sin$ and $\\cos$ function when you express them in exponentials. We'll see that later.\n"
   ]
  },
  {
   "cell_type": "code",
   "execution_count": null,
   "metadata": {},
   "outputs": [],
   "source": [
    "from qiskit import QuantumCircuit\n",
    "from qiskit.circuit import Parameter\n",
    "\n",
    "num_qubits = 1\n",
    "theta = Parameter(\"theta\")\n",
    "\n",
    "circuit = QuantumCircuit(num_qubits)\n",
    "circuit.h(0)\n",
    "circuit.rz(theta,0)\n",
    "circuit.draw(\"mpl\")"
   ]
  },
  {
   "cell_type": "markdown",
   "metadata": {},
   "source": [
    "We expect this should change the sign of the superposition like so: $\\exp(i\\theta/2)|0\\rangle + \\exp(-i\\theta/2)|1\\rangle$, as $\\theta$ is varied. Let's check that it is the case by observing the phase. \n",
    "\n",
    "We need to define a few functions for that, one to get the values, and one to plot them."
   ]
  },
  {
   "cell_type": "code",
   "execution_count": null,
   "metadata": {},
   "outputs": [],
   "source": [
    "from qiskit.primitives import StatevectorEstimator\n",
    "import numpy as np\n",
    "import matplotlib.pyplot as plt\n",
    "\n",
    "def estimate_observables(\n",
    "    circuit: QuantumCircuit, observables: list, param_sweep: np.ndarray\n",
    "):\n",
    "    estimator = StatevectorEstimator()\n",
    "    pub = (circuit, observables, param_sweep)\n",
    "    job = estimator.run([pub])\n",
    "    result = job.result()[0]\n",
    "    return result\n",
    "\n",
    "# plot result of simulation\n",
    "def plot_estimator_result(param_sweep,result, observables,overlay_x=None,overlay_y=None,overlay_label:str=None):\n",
    "    fig, ax = plt.subplots()\n",
    "    ax:plt.Axes\n",
    "\n",
    "    for evs,stds,obs in zip(result.data.evs,result.data.stds,observables):\n",
    "        ax.errorbar(param_sweep, evs,stds, label=f\"Observable {obs[0].paulis[0]}\")\n",
    "    \n",
    "    # adding this to plot the expected function as an overlay here\n",
    "    if overlay_x is not None and overlay_y is not None:\n",
    "        ax.plot(overlay_x, overlay_y,\"rx\",alpha=.8,linewidth=2,label=overlay_label)\n",
    "    \n",
    "    ax.legend()\n",
    "    ax.set_xlabel(r\"$\\theta$\")\n",
    "    ax.set_ylabel(\"Expectation value\")\n",
    "    ax.set_xlim([-np.pi,np.pi])\n",
    "    plt.show()\n"
   ]
  },
  {
   "cell_type": "markdown",
   "metadata": {},
   "source": [
    "We've defined a function that estimate an observable for a given array of parameter values (the `param_sweep`), and a function that plot these results. \n",
    "\n",
    "Now let's sweep the observable $X$, and plot it in blue to see how the phase evolves with theta. We said before that the phase would follow some exponential expression; we can thus find an actual expression for the expectation value $\\langle\\psi(\\theta)|X|\\psi(\\theta)\\rangle$ (which I encourage you to rederive), and which we find to be $\\cos(\\theta)$ (remember the $1/2$ factor?). Okay, so let's plot that too"
   ]
  },
  {
   "cell_type": "code",
   "execution_count": null,
   "metadata": {},
   "outputs": [],
   "source": [
    "from qiskit.quantum_info import SparsePauliOp \n",
    "\n",
    "param_sweep = np.linspace(-np.pi,np.pi,100)\n",
    "phase = np.cos(param_sweep)\n",
    "observable = [[SparsePauliOp(\"X\")]]\n",
    "\n",
    "result  = estimate_observables(circuit,observable,param_sweep)\n",
    "plot_estimator_result(param_sweep,result,observable,overlay_x=param_sweep,overlay_y=phase,overlay_label=r\"$\\cos(\\theta)$\")"
   ]
  },
  {
   "cell_type": "markdown",
   "metadata": {},
   "source": [
    "So far so good. We've got the result we expected. As we thought, the expectation of $X$ follows $\\cos(\\theta)$, and reaches its minimal value at $\\theta=\\pi$. \n",
    "\n",
    "## Variational Quantum Eigensolver\n",
    "\n",
    "Now, we can imagine that we are interested in looking for that minimal value, without yet knowing how the expectation values depend on the parameters. But we can search for the minimizing parameters: we use a classical optimization algorithm to minimize the parameters of some quantum circuit. This we call a *variational quantum eigensolver*. \n",
    "\n",
    "Usually, the observable we want to minimize is the energy of some Hamiltonian. In that case, we're in fact looking for the ground state of our system! \n",
    "\n",
    "Let's try this out. We'll first write some function that defines our Hamiltonian, which is also the observable we want to minimize. Let's go with a simple model (which is called the transverse field Ising model). The Hamiltonian is\n",
    "\n",
    "$$ H = -J\\sum_{\\langle i,j \\rangle} Z_i Z_{j} + g\\sum_j X_j"
   ]
  },
  {
   "cell_type": "code",
   "execution_count": null,
   "metadata": {},
   "outputs": [],
   "source": [
    "num_qubits = 6\n",
    "J=2\n",
    "g=1\n",
    "\n",
    "hamiltonian_J = sum([-J*SparsePauliOp(s*\"I\"+\"ZZ\"+(num_qubits-2-s)*\"I\") for s in range(num_qubits-1)])\n",
    "hamiltonian_g = sum([g*SparsePauliOp(s*\"I\"+\"X\"+(num_qubits-1-s)*\"I\") for s in range(num_qubits-1)])\n",
    "\n",
    "hamiltonian = hamiltonian_J + hamiltonian_g"
   ]
  },
  {
   "cell_type": "markdown",
   "metadata": {},
   "source": [
    "We need to define the routine to optimize the quantum circuit. We'll use the scipy library to do just that. \n",
    "\n",
    "We need a function that optimizes the parameters based on the expectation value, and another one that gives us the true minimal energy, so that we can actually compare."
   ]
  },
  {
   "cell_type": "code",
   "execution_count": null,
   "metadata": {},
   "outputs": [],
   "source": [
    "from scipy.optimize import minimize\n",
    "from scipy.sparse.linalg import eigsh\n",
    "\n",
    "def optimize_circuit(circuit:QuantumCircuit,hamiltonian:SparsePauliOp)->list:\n",
    "    energy_values=[]\n",
    "    def callback(xk:np.ndarray):\n",
    "        energy_values.append(fun(xk=xk))\n",
    "    def fun(xk:np.ndarray):\n",
    "        result = estimate_observables(circuit=circuit,observables=[hamiltonian],param_sweep=xk)\n",
    "        return result.data.evs[0]\n",
    "    minimize(fun=fun,x0=np.random.rand((len(circuit.parameters))),method=\"L-BFGS-B\",callback=callback)\n",
    "    return energy_values\n",
    "\n",
    "def true_ground_energy(hamiltonian:SparsePauliOp):\n",
    "    mat=hamiltonian.to_matrix(sparse=True)\n",
    "    ground_energy,_=eigsh(mat,k=1,which=\"SA\")\n",
    "    return ground_energy"
   ]
  },
  {
   "cell_type": "markdown",
   "metadata": {},
   "source": [
    "## Create a VQE\n",
    "\n",
    "Finally, we need a quantum circuit to optimize, which, hopefully can express the correct value. \n",
    "\n",
    "Now I let the definition of that circuit up to you. Rememeber, this is a quantum Hamiltonian we're trying to solve: you need to make use of superposition, entanglement, and parametrized gates. Your circuit needs to be able to express the ground state.\n",
    "\n",
    "Generally, just throw parametrized gates and entangling gates at the problem until it disappears. You will have to wait a few minutes for the optimization to converge, though.\n",
    "\n",
    "To give you an idea, I was able to reach a final error of 0.006 with depth 11 and 24 parameters. You can, I'm sure, do better.\n"
   ]
  },
  {
   "cell_type": "code",
   "execution_count": null,
   "metadata": {},
   "outputs": [],
   "source": [
    "from uuid import uuid1\n",
    "# protip: when creating parameters for your circuit, use Parameter(name=str(uuid1())) to name them automatically\n",
    "# you can also create a circuit and repeat it multiple times to make it more expressive.\n",
    "# though this will mean the training takes longer, and it makes the circuit deeper (which you want to avoid.)\n",
    "# the depth is printed when you run this cell\n",
    "# Also note that if the circuit has too many parameters, the optimization may give worse results!\n",
    "\n",
    "ground_energy = true_ground_energy(hamiltonian)\n",
    "\n",
    "\n",
    "def your_circuit():\n",
    "    circuit = QuantumCircuit(num_qubits)\n",
    "        # EXERCISE: build a VQE to find the ground state of the Hamiltonian\n",
    "\n",
    "\n",
    "    return circuit\n",
    "\n",
    "\n",
    "circuit = your_circuit()\n",
    "print(f\"The circuit depth is {circuit.depth()}\")\n",
    "print(f\"The number of parameters is {len(circuit.parameters)}\")\n",
    "energy_values = optimize_circuit(circuit,hamiltonian)\n",
    "print(f\"final energy error is {np.abs(ground_energy[0]-energy_values[-1])}\")\n",
    "\n",
    "fig,ax = plt.subplots()\n",
    "\n",
    "ax.plot(list(range(len(energy_values))),np.abs(energy_values-ground_energy))\n",
    "ax.set_xlabel(\"Iterations\")\n",
    "ax.set_ylabel(\"$|E_{optim}-E_{true}|$\")\n",
    "ax.set_yscale(\"log\")\n",
    "\n"
   ]
  }
 ],
 "metadata": {
  "kernelspec": {
   "display_name": "venv",
   "language": "python",
   "name": "python3"
  },
  "language_info": {
   "codemirror_mode": {
    "name": "ipython",
    "version": 3
   },
   "file_extension": ".py",
   "mimetype": "text/x-python",
   "name": "python",
   "nbconvert_exporter": "python",
   "pygments_lexer": "ipython3",
   "version": "3.10.11"
  }
 },
 "nbformat": 4,
 "nbformat_minor": 2
}
