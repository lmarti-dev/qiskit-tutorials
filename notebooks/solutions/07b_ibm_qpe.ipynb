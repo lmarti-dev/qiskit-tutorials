{
 "cells": [
  {
   "cell_type": "markdown",
   "metadata": {},
   "source": [
    "# Quantum Phase Estimation on IBM hardware\n",
    "\n",
    "Now that you should be properly registered with IBM and able to run programs on their quantum devices, it's time to compute something useful. \n",
    "\n",
    "In this notebook we're going to do just that with the Quantum Phase Estimation algorithm, which we saw about three weeks ago. Since we stay in the Qiskit ecosystem, we'll be able to reuse a lot of code we've built before.\n",
    "\n",
    "As you've seen last week, quantum computers usually suffer from noise. Here we'll be able to compare that directly with our noiseless experience in the original quantum phase estimation notebook.\n",
    "\n",
    "To motivate you perhaps a bit more, note that such hardware runs are actually quite hard. For example, a somewhat recent [pre-print](https://arxiv.org/abs/2212.12372) (whose conclusions seem to be up for discussion, but that's another matter), ran Shor's algorithm -- whose crucial component is QPE -- on 10 qubits. So in this notebook we're not necessarily going for state-of-the-art results, but still something very much non-trivial.\n",
    "\n",
    "First of all, in order to get the **bonus** you need to write your name and idm number in this cell and run it:"
   ]
  },
  {
   "cell_type": "code",
   "execution_count": null,
   "metadata": {},
   "outputs": [],
   "source": [
    "your_name = \"alice b\"\n",
    "your_idm = \"abc12def\""
   ]
  },
  {
   "cell_type": "markdown",
   "metadata": {},
   "source": [
    "\n",
    "OK let's `pip install`"
   ]
  },
  {
   "cell_type": "code",
   "execution_count": null,
   "metadata": {},
   "outputs": [],
   "source": [
    "%pip install qiskit[visualization] --quiet\n",
    "%pip install qiskit_ibm_runtime --quiet\n",
    "%pip install matplotlib --quiet\n",
    "%pip install qiskit-aer --quiet"
   ]
  },
  {
   "cell_type": "markdown",
   "metadata": {},
   "source": [
    "As stated before, let's reuse all our QPE code. This time, we'll be trying to solve a more interesting model than simply a random unitary $U$: we'll be studying some Hamiltonian, as we did in the parametrized gate notebook. Since we want to make this an actually interesting result, but we will have to deal with noise, we'll go with a very simple Ising model, simpler than the one we saw back then:\n",
    "\n",
    "$$ H = J \\sum_i Z_i Z_{i+1} $$\n",
    "\n",
    "and we'll pick the ground state of the model, that is $|E_0\\rangle=|1010...0101\\rangle$. It can also be $|010101...10\\rangle$ Generally, notice that since $ZZ|10\\rangle = -|10\\rangle$, and $ZZ|01\\rangle = -|01\\rangle$ but $ZZ|11\\rangle = |11\\rangle$ and $ZZ|00\\rangle = |00\\rangle$ the ground states are easy to find. We'll try to guess its phase using the IBM quantum device. The phase in question will actually be the eigenenergy of the ground state, since\n",
    "\n",
    "$$ e^{iHt}|E_0\\rangle=\\sum_k \\frac{(it)^k H^k}{k!}|E_0\\rangle=\\sum_k \\frac{(it)^k E_0^k}{k!}|E_0\\rangle=e^{iE_0 t}|E_0\\rangle$$\n",
    "\n",
    "Notice that we need to be careful, since there might exist $E_j=E_0 + 2\\pi n$, and we can't distinguish them (because the exponential is periodic.) This means we need to pick a $t$ which is ensures the differnet eigenvalues don't overlap.\n",
    "\n",
    "Below is the old QPE code (modified quite a bit to use the Hamiltonian), which will be useful to check the circuit works as intended. "
   ]
  },
  {
   "cell_type": "code",
   "execution_count": null,
   "metadata": {},
   "outputs": [],
   "source": [
    "from typing import Iterable\n",
    "\n",
    "import numpy as np\n",
    "from qiskit import QuantumCircuit, QuantumRegister,ClassicalRegister\n",
    "from qiskit.circuit.library import QFT, PauliEvolutionGate\n",
    "from qiskit.quantum_info import SparsePauliOp, Statevector\n",
    "from qiskit.result import Counts\n",
    "from qiskit.visualization import plot_histogram\n",
    "\n",
    "def from_bitstring(n_qubits:int,bitstring:str)->int:\n",
    "    if isinstance(bitstring,str):\n",
    "        ind=np.sum([2**(n_qubits-1-int(b)) for b in bitstring])\n",
    "        return ind\n",
    "    else:\n",
    "        return bitstring\n",
    "    \n",
    "\n",
    "def to_bitstring(n_qubits:int,ind:str)->int:\n",
    "    return format(ind, \"0{lp}b\".format(lp=n_qubits))\n",
    "    \n",
    "def time_evolution_unitaries(r1:int,ham:np.ndarray,time:float)->Iterable:\n",
    "    for m in range(r1):\n",
    "        rut=PauliEvolutionGate(ham,time=-time*(2**m))\n",
    "        yield rut\n",
    "\n",
    "def controlled_U_gate(circ:QuantumCircuit,ctrl:int,targs:list,pauli_evgate:PauliEvolutionGate)->None:\n",
    "    pauli_cevgate = pauli_evgate.control(1)\n",
    "    circ.append(pauli_cevgate,qargs=[ctrl,*targs])\n",
    "\n",
    "\n",
    "def get_targets(hamiltonian:np.ndarray,idx:int):\n",
    "    eigvals,eigvecs=np.linalg.eigh(hamiltonian)\n",
    "    if idx == -1:\n",
    "        idx = len(eigvals)-1\n",
    "    target_energy = eigvals[idx]\n",
    "    n_qubits=int(np.log2(len(eigvals)))\n",
    "    target_state = eigvecs[:,idx]\n",
    "\n",
    "    target_state_bitstring = to_bitstring(n_qubits,int(np.argmax(target_state)))\n",
    "    return target_energy,target_state,target_state_bitstring\n",
    "\n",
    "\n",
    "def qpe_circuit(r1:int,ham:SparsePauliOp,target_idx:int,time_scaling:float):\n",
    "\n",
    "    r2 = ham.num_qubits\n",
    "    target_energy,target_state,target_state_bitstring= get_targets(ham.to_matrix(),target_idx)\n",
    "    target_phase = np.mod(target_energy*time_scaling/(2*np.pi),1)\n",
    "    first_register=QuantumRegister(r1,\"first\")\n",
    "    second_register=QuantumRegister(r2,\"second\")\n",
    "\n",
    "    circ = QuantumCircuit(first_register,second_register)\n",
    "    circ.h(first_register)\n",
    "    x_gate_list = [circ.qregs[1][ind] for ind in range(len(target_state_bitstring)) if target_state_bitstring[::-1][ind]==\"1\"]\n",
    "    if x_gate_list != []:\n",
    "        circ.x(x_gate_list)\n",
    "\n",
    "    # make sure the eigenvalues are between 0 and 1 with time\n",
    "    time_unitaries = time_evolution_unitaries(r1,ham,time=time_scaling)\n",
    "\n",
    "    for ind,time_unitary in enumerate(time_unitaries):\n",
    "        controlled_U_gate(circ=circ,ctrl=ind,targs=second_register,pauli_evgate=time_unitary)\n",
    "\n",
    "    circ.append(QFT(num_qubits=len(first_register),inverse=True,do_swaps=True),qargs=first_register)\n",
    "    return circ,target_phase,target_state,target_state_bitstring\n",
    "\n",
    "\n",
    "def phase_from_counts(counts:dict)->float:\n",
    "    counts = Counts(counts)\n",
    "    bitstring =counts.most_frequent()\n",
    "    fig=plot_histogram(counts)\n",
    "    return np.sum([(int(v))*2**-(i+1) for i,v in enumerate(bitstring)]),bitstring,fig\n",
    "\n",
    "\n",
    "def phase_from_statevector_simulation(circ:QuantumCircuit,n_shots:int=1000)->float:\n",
    "    statevector = Statevector.from_instruction(circ)\n",
    "    r1=len(circ.qregs[0])  \n",
    "    counts=statevector.sample_counts(n_shots,qargs=range(r1))\n",
    "    return *phase_from_counts(counts),counts\n",
    "\n",
    "def print_info(target_phase:float,computed_phase:float,output_bitstring:str,correct_bitstring:str):\n",
    "    print(f\"correct bitstring: {correct_bitstring} most frequent bitstring: {output_bitstring}\")\n",
    "    print(f\"correct phase: {target_phase:.5f}, guessed phase: {computed_phase:.5f} err: {np.abs(target_phase-computed_phase):.5f}\")\n",
    "\n",
    "def get_correct_bitstring(target_phase:float,r1:int):\n",
    "    return to_bitstring(r1,int(np.round(target_phase*(2**r1))))\n"
   ]
  },
  {
   "cell_type": "markdown",
   "metadata": {},
   "source": [
    "Let's check that our QPE will find the correct phase in the ideal case. I've taken the Hamiltonian from notebook 3, and for now we'll comment the $X$ part out. If you feel you can take a stab at it, feel free to put it back in. "
   ]
  },
  {
   "cell_type": "code",
   "execution_count": null,
   "metadata": {},
   "outputs": [],
   "source": [
    "# number of qubits in register\n",
    "r1 = 3\n",
    "r2 = 4\n",
    "\n",
    "# hamiltonian parameters\n",
    "J = 1\n",
    "g = 1\n",
    "\n",
    "# I commented out the second part of the Hamiltonian. But you can uncomment it\n",
    "# if you're up for a challenge.\n",
    "hamiltonian_J = sum(\n",
    "    [J * SparsePauliOp(s * \"I\" + \"ZZ\" + (r2 - 2 - s) * \"I\") for s in range(r2 - 1)]\n",
    ")\n",
    "# hamiltonian_g = sum([g*SparsePauliOp(s*\"I\"+\"X\"+(num_qubits-1-s)*\"I\") for s in range(num_qubits-1)])\n",
    "\n",
    "# hamiltonian = hamiltonian_J + hamiltonian_g\n",
    "hamiltonian = hamiltonian_J\n",
    "\n",
    "\n",
    "time_scaling = 1\n",
    "target_idx = 0\n",
    "\n",
    "circ, target_phase, target_state, target_state_bitstring = qpe_circuit(\n",
    "    r1, hamiltonian, target_idx, time_scaling\n",
    ")\n",
    "correct_bitstring = get_correct_bitstring(target_phase, r1)\n",
    "sv_computed_phase, sv_output_bitstring, sv_fig,sv_counts = phase_from_statevector_simulation(circ)\n",
    "\n",
    "\n",
    "print(\n",
    "    f\"QPE circuit has: Hamiltonian with {r2} qubits, phase estimation register with {r1} qubits.\"\n",
    ")\n",
    "print(f\"The phase resolution is {2**(-r1)}: the error should be smaller than this value.\")\n",
    "print_info(target_phase, sv_computed_phase, sv_output_bitstring, correct_bitstring)\n",
    "# neat trick to show the figure in jupyter notebook\n",
    "sv_fig.suptitle(\"Statevector simulation\")\n",
    "sv_fig"
   ]
  },
  {
   "cell_type": "markdown",
   "metadata": {},
   "source": [
    "Now, we need to create the link between our QPE circuit and the hardware. We can modify last week's notebook to fit that purpose. Since we only need to measure a single bitstring in the end, we will simply measure the bitstrings from the first register and see which one (hopefully the right one) is the most frequent. So we'll won't require any observables. We must, however, add a classical register to our circuit, to be able to sample it in an experimental setting."
   ]
  },
  {
   "cell_type": "code",
   "execution_count": null,
   "metadata": {},
   "outputs": [],
   "source": [
    "measurement_register = ClassicalRegister(r1, \"meas\")\n",
    "circ.add_register(measurement_register)\n",
    "circ.measure(circ.qregs[0], measurement_register)"
   ]
  },
  {
   "cell_type": "markdown",
   "metadata": {},
   "source": [
    "Let's see how that circuit looks now."
   ]
  },
  {
   "cell_type": "code",
   "execution_count": null,
   "metadata": {},
   "outputs": [],
   "source": [
    "circ_fig=circ.draw(\"mpl\")\n",
    "circ_fig"
   ]
  },
  {
   "cell_type": "markdown",
   "metadata": {},
   "source": [
    "Now we need to connect to IBM to access the fake simulators. Again, you have to replace the `token = ...` part with your own access token."
   ]
  },
  {
   "cell_type": "code",
   "execution_count": null,
   "metadata": {},
   "outputs": [],
   "source": [
    "import io\n",
    "from qiskit_ibm_runtime import QiskitRuntimeService\n",
    "\n",
    "token = io.open(\"../token.dat\", \"r\", encoding=\"utf8\").read()\n",
    "service = QiskitRuntimeService(channel=\"ibm_quantum\", token=token)"
   ]
  },
  {
   "cell_type": "markdown",
   "metadata": {},
   "source": [
    "\n",
    "Again, we make use of a _fake backend_ to pre-screen our results. In this case, I picked `FakeJakartaV2`, since it has 7 qubits and our example requires 7 qubits too. Note that we could also simulate a fake version of the real backend, by calling `AerSimulator.from_backend(real_backend)`, but in our case, we don't want to complicate things too much."
   ]
  },
  {
   "cell_type": "code",
   "execution_count": null,
   "metadata": {},
   "outputs": [],
   "source": [
    "from qiskit_ibm_runtime.fake_provider import FakeJakartaV2\n",
    "from qiskit_ibm_runtime import SamplerV2, RuntimeJob\n",
    "from qiskit.transpiler.preset_passmanagers import generate_preset_pass_manager\n",
    "from qiskit_aer import AerSimulator\n",
    "\n",
    "\n",
    "def backend_sample(backend, circuit: QuantumCircuit, n_shots: int):\n",
    "    estimator = SamplerV2(backend=backend)\n",
    "    pm = generate_preset_pass_manager(backend=backend, optimization_level=1)\n",
    "    isa_circuit = pm.run(circuit)\n",
    "    job = estimator.run([(isa_circuit,)], shots=n_shots)\n",
    "    return job\n",
    "\n",
    "\n",
    "def get_counts_from_job(job: RuntimeJob):\n",
    "    return job.result()[0].data.meas.get_counts()\n",
    "\n",
    "\n",
    "n_shots = 100000\n",
    "fake_backend = FakeJakartaV2()\n",
    "# make sure we use the noisy simulator\n",
    "backend_sim = AerSimulator.from_backend(fake_backend)\n",
    "\n",
    "# sample the circuit with the desired backend\n",
    "fake_job_result = backend_sample(backend=backend_sim, circuit=circ, n_shots=n_shots)\n",
    "fake_counts = get_counts_from_job(fake_job_result)\n",
    "\n",
    "# print and plot results\n",
    "fake_computed_phase, fake_output_bitstring, fake_fig = phase_from_counts(fake_counts)\n",
    "print_info(target_phase, fake_computed_phase, fake_output_bitstring, correct_bitstring)\n",
    "fake_fig.suptitle(f\"Fake run on {fake_backend.name}\")\n",
    "fake_fig"
   ]
  },
  {
   "cell_type": "markdown",
   "metadata": {},
   "source": [
    "Now, we run the job on the Qiskit platform. You can see the progress on the [jobs page](https://quantum.ibm.com/jobs). \n",
    "\n",
    "We connect to a real quantum device backend as in the last notebook. Then we can finally run QPE on a real quantum computer! (how exciting)"
   ]
  },
  {
   "cell_type": "code",
   "execution_count": null,
   "metadata": {},
   "outputs": [],
   "source": [
    "real_backend = service.least_busy(\n",
    "    simulator=False, operational=True, min_num_qubits=r1 + r2\n",
    ")\n",
    "\n",
    "n_shots = 1000\n",
    "which = \"run\"\n",
    "\n",
    "if which == \"run\":\n",
    "    real_job = backend_sample(backend=real_backend, circuit=circ, n_shots=n_shots)\n",
    "elif which == \"load\":\n",
    "    job_key = \"cssaz0czsqjg008t7r5g\"\n",
    "    real_job = service.job(job_key)\n",
    "\n",
    "\n",
    "real_counts = get_counts_from_job(real_job)\n",
    "real_computed_phase, real_output_bitstring, real_fig = phase_from_counts(real_counts)\n",
    "print_info(target_phase, real_computed_phase, real_output_bitstring, correct_bitstring)\n",
    "real_fig.suptitle(f\"Hardware run on {real_backend.name}\")\n",
    "real_fig"
   ]
  },
  {
   "cell_type": "markdown",
   "metadata": {},
   "source": [
    "**SPOILER ALERT** your results might not be very good because of noise. If you've gotten correct results in the first part of the exercise, and the hardware results are not, then it is very likely that the quantum device is very noisy, and the circuit's output is dominated by noise rather than by the signal"
   ]
  },
  {
   "cell_type": "markdown",
   "metadata": {},
   "source": [
    "## Wrap up\n",
    "\n",
    "Now if you want to "
   ]
  },
  {
   "cell_type": "code",
   "execution_count": null,
   "metadata": {},
   "outputs": [],
   "source": [
    "import zipfile\n",
    "import json\n",
    "from datetime import datetime\n",
    "\n",
    "\n",
    "def fig_to_zip(fig, fn, zf):\n",
    "    fig_opts = {\"format\": \"pdf\", \"bbox_inches\": \"tight\", \"pad_inches\": 0.01}\n",
    "    buf = io.BytesIO()\n",
    "    fig.savefig(buf, **fig_opts)\n",
    "    zf.writestr(fn, buf.getvalue())\n",
    "\n",
    "def np_dict_to_dict(d):\n",
    "    return {k:int(v) for k,v in d.items()}\n",
    "\n",
    "job = real_job.__repr__()\n",
    "ham = str(hamiltonian)\n",
    "jobj = {\n",
    "    \"__timestamp\":datetime.today().strftime(\"%d/%m/%Y at %H:%M %Ss\"),\n",
    "    \"__jobj\": job,\n",
    "    \"__ham\": ham,\n",
    "    \"__name\": your_name,\n",
    "    \"__idm\": your_idm,\n",
    "    \"__fake_backend\": fake_backend.name,\n",
    "    \"__real_backend\": real_backend.name,\n",
    "    \"__sv_counts\":np_dict_to_dict(sv_counts),\n",
    "    \"__fake_counts\":np_dict_to_dict(fake_counts),\n",
    "    \"__real_counts\":np_dict_to_dict(real_counts),\n",
    "    \"__target_phase\":target_phase,\n",
    "    \"__correct_bitstring\":correct_bitstring,\n",
    "    \"__sv_computed_phase\":sv_computed_phase,\n",
    "    \"__sv_output_bitstring\":sv_output_bitstring,\n",
    "    \"__fake_computed_phase\":fake_computed_phase,\n",
    "    \"__fake_output_bitstring\":fake_output_bitstring,\n",
    "    \"__real_computed_phase\":real_computed_phase,\n",
    "    \"__real_output_bitstring\":real_output_bitstring,\n",
    "}\n",
    "\n",
    "zf_fpath = f\"./{your_name}_{your_idm}.zip\"\n",
    "\n",
    "with zipfile.ZipFile(zf_fpath, mode=\"w\") as zf:\n",
    "    fig_to_zip(sv_fig, \"stevector_results.pdf\", zf)\n",
    "    fig_to_zip(fake_fig, \"fake_results.pdf\", zf)\n",
    "    fig_to_zip(real_fig, \"real_results.pdf\", zf)\n",
    "    fig_to_zip(circ_fig, \"circuit.pdf\", zf)\n",
    "\n",
    "    buf = io.BytesIO()\n",
    "    data = json.dumps(jobj, indent=4, ensure_ascii=False).encode()\n",
    "    buf.write(data)\n",
    "    zf.writestr(\"specs.json\", buf.getvalue())"
   ]
  }
 ],
 "metadata": {
  "kernelspec": {
   "display_name": "venv",
   "language": "python",
   "name": "python3"
  },
  "language_info": {
   "codemirror_mode": {
    "name": "ipython",
    "version": 3
   },
   "file_extension": ".py",
   "mimetype": "text/x-python",
   "name": "python",
   "nbconvert_exporter": "python",
   "pygments_lexer": "ipython3",
   "version": "3.11.0"
  }
 },
 "nbformat": 4,
 "nbformat_minor": 2
}
