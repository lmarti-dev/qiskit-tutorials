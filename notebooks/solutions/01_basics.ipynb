{
 "cells": [
  {
   "cell_type": "markdown",
   "metadata": {
    "id": "8wNKVpbwyHG6",
    "tags": []
   },
   "source": [
    "# Basics\n",
    "## Introduction\n",
    "\n",
    "Welcome to the tutorial for qiskit, IBM's quantum circuit library for Python. It consists in multiple notebooks, which will cover different aspects of programming quantum circuits with Python, as well as problems and, in the end, a small project.\n",
    "\n",
    "This particular notebook will guide you through the essentials of qiskit. By the end of it, you should be able to build a simple quantum circuit and perform measurements on it.\n",
    "\n",
    "\n",
    "Prerequisites are only a general knowledge of Python. If you do not have general knowledge of Python, you can still attempt to follow the notebooks: it is a very accessible programming language with easy syntax.\n",
    "\n",
    "You can also find a succint Python cheat sheet [here](https://github.com/ehmatthes/pcc_2e/releases/download/v1.0.1/beginners_python_cheat_sheet_pcc_all.pdf)\n",
    "\n",
    "\n",
    "Ok, back to qiskit. The first step is of course the installation:"
   ]
  },
  {
   "cell_type": "code",
   "execution_count": 2,
   "metadata": {
    "colab": {
     "base_uri": "https://localhost:8080/"
    },
    "id": "q1jtV0aVx4Sn",
    "outputId": "62320d2a-16d1-4db1-e5c9-3a54f6a3c6eb"
   },
   "outputs": [
    {
     "name": "stdout",
     "output_type": "stream",
     "text": [
      "Note: you may need to restart the kernel to use updated packages.\n"
     ]
    }
   ],
   "source": [
    "%pip install qiskit[visualization] --quiet"
   ]
  },
  {
   "cell_type": "markdown",
   "metadata": {
    "id": "YbdFqoEV0YEu"
   },
   "source": [
    "## Quantum circuits\n",
    "\n",
    "Quantum circuits are usually represented by horizontal lines with boxes on them: the lines represent the qubits, and the boxes the gates acting on them. Time flows from left to right (but due to unitarity, can also be run backwards, if we neglect measurements) and we can assume all qubits start in the zero state. Run the code below to see an example circuit:"
   ]
  },
  {
   "cell_type": "code",
   "execution_count": 3,
   "metadata": {
    "colab": {
     "base_uri": "https://localhost:8080/",
     "height": 255
    },
    "id": "tVn6PSij1C2k",
    "outputId": "72347d5d-1475-4a03-d0c0-00da07fabb67"
   },
   "outputs": [
    {
     "data": {
      "image/png": "[encoded data removed]",
      "text/plain": [
       "<Figure size 454.517x284.278 with 1 Axes>"
      ]
     },
     "execution_count": 3,
     "metadata": {},
     "output_type": "execute_result"
    }
   ],
   "source": [
    "from qiskit import QuantumCircuit\n",
    "\n",
    "circ_example = QuantumCircuit(2, 2)\n",
    "circ_example.h(range(2))\n",
    "circ_example.x(0)\n",
    "circ_example.cx(0, 1)\n",
    "circ_example.measure(0,0)\n",
    "circ_example.draw(output=\"mpl\")\n"
   ]
  },
  {
   "cell_type": "markdown",
   "metadata": {
    "id": "iBYUED9yDrh0"
   },
   "source": [
    "The $q_0$ and $q_1$ label the two qubits, and the $c$ labels the classical register, that is, the classical bits which receive the measurements.\n",
    "\n",
    "The boxes with $H$ and $X$ labels are the one-qubit gates (Pauli $X$ and Hadamard, respectively), and the vertical line linking a $q_0$ to $q_1$ with a plus sign is a two-qubit gate, called $CX$ or $CNOT$. At the end, the gauge icon labels a measurement on the qubit $q_0$: note that this is a non-unitary operation, it collapses the wavefunction to one of the classical outcomes. Here, we only measure $q_0$ and do not care about qubit $q_1$, but we could also measure it if we wanted.\n",
    "\n",
    "## Creating a quantum circuit\n",
    "\n",
    "Now, let's walk through all the steps that we need to create a circuit. First, we define the QuantumCircuit object by specifying the number of qubits and the number of classical bits (to receive the measurements)"
   ]
  },
  {
   "cell_type": "code",
   "execution_count": 4,
   "metadata": {
    "id": "024Kw3xRDaWM"
   },
   "outputs": [
    {
     "data": {
      "image/png": "[encoded data removed]",
      "text/plain": [
       "<Figure size 161.878x284.278 with 1 Axes>"
      ]
     },
     "execution_count": 4,
     "metadata": {},
     "output_type": "execute_result"
    }
   ],
   "source": [
    "n_qubits = 2\n",
    "n_classical_bits = 2\n",
    "\n",
    "circuit = QuantumCircuit(n_qubits,n_classical_bits)\n",
    "circuit.draw(output=\"mpl\")"
   ]
  },
  {
   "cell_type": "markdown",
   "metadata": {
    "id": "ZCpMSbufPvYC"
   },
   "source": [
    "Now we apply gates on this circuit by calling the respective function on the desired qubit. For example, a NOT gate, which we call in quantum computing an $X$ gate, can be added to the first qubit (index 0) like so:"
   ]
  },
  {
   "cell_type": "code",
   "execution_count": 5,
   "metadata": {
    "colab": {
     "base_uri": "https://localhost:8080/"
    },
    "id": "1607rfisQAOR",
    "outputId": "0a8b5fe9-2068-4c6c-c6e2-0f34f14792ee"
   },
   "outputs": [
    {
     "data": {
      "image/png": "[encoded data removed]",
      "text/plain": [
       "<Figure size 203.683x284.278 with 1 Axes>"
      ]
     },
     "execution_count": 5,
     "metadata": {},
     "output_type": "execute_result"
    }
   ],
   "source": [
    "circuit = QuantumCircuit(n_qubits,n_classical_bits)\n",
    "# add X to qubit 0\n",
    "circuit.x(0)\n",
    "circuit.draw(output=\"mpl\")"
   ]
  },
  {
   "cell_type": "markdown",
   "metadata": {
    "id": "NdHK2G81ROqO",
    "tags": []
   },
   "source": [
    "## Sampling quantum circuits\n",
    "\n",
    "Let's see what the output of this circuit is; we need, however, to make a few remarks before proceeding.\n",
    "\n",
    "Quantum circuits are very much like classical circuits in a sense: the qubits store information, and we act on them using gates. Unlike classical circuits, quantum circuits have probabilistic outcomes: if I measure the qubits, I get a string of bits (like $|0111011011\\rangle$, for example), often called a bitstring (guess why), which is only one out of many possible realizations. Therefore, one needs to _sample_ a circuit many times, in order to reconstruct either the wavefunction (you usually try to avoid that, because it is not efficient) or to get an expectation value $\\langle \\psi | \\hat{O} | \\psi \\rangle$, where $|\\psi\\rangle$ is the wavefunction at the end of the circuit. Hence, we need to create a function that simulates the quantum evolution of the circuit, and then get samples from that distribution.\n",
    "\n",
    "If I measure the simple circuit defined above, I should only ever get the $|01\\rangle$ state, since we start in the $|00\\rangle$ state, and we apply a bitflip to the first qubit (qiskit has a right-to-left ordering).\n",
    "\n",
    "We use the \"Statevector\" quantum simulator, which simulates the whole quantum state as a vector (hence the name); it is the standard one, although not very efficient. Note that for a technical reason that is not of much importance for now, we are not using the classical bits to measure, but rather directly getting our information from the state vector simulator.\n",
    "\n",
    "We put together the necessary steps to sample the circuit easily:"
   ]
  },
  {
   "cell_type": "code",
   "execution_count": 6,
   "metadata": {
    "id": "1cfypop-VdIv"
   },
   "outputs": [],
   "source": [
    "from qiskit.quantum_info import Statevector\n",
    "\n",
    "# we input a circuit and a number of samples, and obtain a dictionary of outcomes\n",
    "def sample_circuit(circuit: QuantumCircuit,n_shots:int) -> dict:\n",
    "  statevector = Statevector.from_instruction(circuit)\n",
    "  outcomes = statevector.sample_counts(n_shots)\n",
    "  return outcomes\n",
    "\n",
    "\n",
    "# function that print all the outcomes\n",
    "def print_outcomes(outcomes:dict):\n",
    "  for bitstring,counts in outcomes.items():\n",
    "    print(f\"Obtained bitstring |{bitstring}> {counts} times.\")\n"
   ]
  },
  {
   "cell_type": "markdown",
   "metadata": {
    "id": "Sh0sqTuKVxpJ"
   },
   "source": [
    "Back to our circuit.\n",
    "\n",
    "Let's call the `sample_circuit` function we defined before."
   ]
  },
  {
   "cell_type": "code",
   "execution_count": 7,
   "metadata": {
    "colab": {
     "base_uri": "https://localhost:8080/"
    },
    "id": "xDpLu6uLROD3",
    "outputId": "87108f40-43da-47a7-8486-e4d4bcb36244"
   },
   "outputs": [
    {
     "name": "stdout",
     "output_type": "stream",
     "text": [
      "Obtained bitstring |01> 100 times.\n"
     ]
    }
   ],
   "source": [
    "# we sample the circuit a 100 times, and see what the outcomes are\n",
    "\n",
    "n_shots = 100\n",
    "outcomes = sample_circuit(circuit,n_shots)\n",
    "print_outcomes(outcomes)\n"
   ]
  },
  {
   "cell_type": "markdown",
   "metadata": {
    "id": "-QaiGwKLQF9X"
   },
   "source": [
    "As expected, we only get the $|01\\rangle$ bitstring.\n",
    "\n",
    "Let's move on to more complex circuits. This is quantum computing, so let's add some superposition to the mix. The Hadamard gate $H$ sends a qubit to a superposition, $|0\\rangle \\to |0\\rangle + |1\\rangle$ (what do you think happens if we apply it to $|1\\rangle$?)\n",
    "\n",
    "We add the gate to the second qubit and measure our circuit again:\n"
   ]
  },
  {
   "cell_type": "code",
   "execution_count": 8,
   "metadata": {
    "colab": {
     "base_uri": "https://localhost:8080/"
    },
    "id": "K8JiqFjrQNvW",
    "outputId": "9573f678-4699-40ab-fc8b-2d4d0896c02c"
   },
   "outputs": [
    {
     "name": "stdout",
     "output_type": "stream",
     "text": [
      "Obtained bitstring |01> 55 times.\n",
      "Obtained bitstring |11> 45 times.\n"
     ]
    },
    {
     "data": {
      "image/png": "[encoded data removed]",
      "text/plain": [
       "<Figure size 203.683x284.278 with 1 Axes>"
      ]
     },
     "execution_count": 8,
     "metadata": {},
     "output_type": "execute_result"
    }
   ],
   "source": [
    "circuit = QuantumCircuit(n_qubits,n_classical_bits)\n",
    "# add X to qubit 0\n",
    "circuit.x(0)\n",
    "# add H to qubit 1\n",
    "circuit.h(1)\n",
    "\n",
    "# sample circuit again\n",
    "n_shots = 100\n",
    "outcomes = sample_circuit(circuit,n_shots)\n",
    "print_outcomes(outcomes)\n",
    "\n",
    "circuit.draw(output=\"mpl\")"
   ]
  },
  {
   "cell_type": "markdown",
   "metadata": {
    "id": "MQrpDbNebsDa"
   },
   "source": [
    "Now, the outcomes are one of two different bitstrings, since the wavefunction we measure is in a superposition, and a measurement collapses it to one of the bitstrings which make up the superposition.\n",
    "\n",
    "Of course, we also need to take two-qubit gates into account, because superposition is not what makes quantum computing hard to do classically (what is it then?).\n",
    "\n",
    "This can be easily done the same way as before. Let us add a controlled not gate $CX$ to our circuit. It has a control qubit, which decides whether to apply a X gate on the target qubit: if the control qubit is $|1\\rangle$ we apply the X gate, if it is $|0\\rangle$, we do nothing.\n",
    "\n",
    "Let's add that gate, and sample the circuit again."
   ]
  },
  {
   "cell_type": "code",
   "execution_count": 9,
   "metadata": {
    "colab": {
     "base_uri": "https://localhost:8080/"
    },
    "id": "RVgLVlIsbrPW",
    "outputId": "d2747164-2da4-49e0-b28e-6ff04169e83c"
   },
   "outputs": [
    {
     "name": "stdout",
     "output_type": "stream",
     "text": [
      "Obtained bitstring |01> 51 times.\n",
      "Obtained bitstring |10> 49 times.\n"
     ]
    },
    {
     "data": {
      "image/png": "[encoded data removed]",
      "text/plain": [
       "<Figure size 287.294x284.278 with 1 Axes>"
      ]
     },
     "execution_count": 9,
     "metadata": {},
     "output_type": "execute_result"
    }
   ],
   "source": [
    "circuit = QuantumCircuit(n_qubits,n_classical_bits)\n",
    "# add X to qubit 0\n",
    "circuit.x(0)\n",
    "# add H to qubit 1\n",
    "circuit.h(1)\n",
    "# add a CX gate controlled by qubit 1\n",
    "control_qubit = 1\n",
    "target_qubit = 0\n",
    "circuit.cx(control_qubit,target_qubit)\n",
    "\n",
    "# sample circuit again\n",
    "n_shots = 100\n",
    "outcomes = sample_circuit(circuit,n_shots)\n",
    "print_outcomes(outcomes)\n",
    "circuit.draw(output=\"mpl\")"
   ]
  },
  {
   "cell_type": "markdown",
   "metadata": {
    "id": "PGWDVBgAR3i8"
   },
   "source": [
    "Do you understand why the bitstrings are what they are? How do Hadamard and two-qubit gates interact?\n",
    "\n",
    "I'll leave you for now with these questions. Those were the very fundamentals of qiskit, and you now know how to build a circuit and get measurements out of it.\n",
    "\n",
    "# Simple exercise\n",
    "\n",
    "Before parting, let's try a simple exercise.\n",
    "\n",
    "Write a circuit that gives (roughly) half of the time $|000\\rangle$ and the other half $|111\\rangle$, so that you get a print output like:\n",
    "\n",
    "```\n",
    "Obtained bitstring |000> 49 times.\n",
    "Obtained bitstring |111> 51 times.\n",
    " ```"
   ]
  },
  {
   "cell_type": "code",
   "execution_count": 12,
   "metadata": {
    "colab": {
     "base_uri": "https://localhost:8080/"
    },
    "id": "qZq5yuSTf-jb",
    "outputId": "5955d663-1ae1-4283-9508-d2189dd8d1c5"
   },
   "outputs": [
    {
     "name": "stdout",
     "output_type": "stream",
     "text": [
      "Obtained bitstring |000> 56 times.\n",
      "Obtained bitstring |111> 44 times.\n"
     ]
    },
    {
     "data": {
      "image/png": "[encoded data removed]",
      "text/plain": [
       "<Figure size 371.107x367.889 with 1 Axes>"
      ]
     },
     "execution_count": 12,
     "metadata": {},
     "output_type": "execute_result"
    }
   ],
   "source": [
    "\n",
    "your_circuit = QuantumCircuit(3,3)\n",
    "\n",
    "your_circuit.h(0)\n",
    "your_circuit.cx(0,1)\n",
    "your_circuit.cx(1,2)\n",
    "\n",
    "\n",
    "# sample circuit\n",
    "n_shots = 100\n",
    "outcomes = sample_circuit(your_circuit,n_shots)\n",
    "print_outcomes(outcomes)\n",
    "your_circuit.draw(output=\"mpl\")"
   ]
  }
 ],
 "metadata": {
  "colab": {
   "provenance": []
  },
  "kernelspec": {
   "display_name": "Python 3 (ipykernel)",
   "language": "python",
   "name": "python3"
  },
  "language_info": {
   "codemirror_mode": {
    "name": "ipython",
    "version": 3
   },
   "file_extension": ".py",
   "mimetype": "text/x-python",
   "name": "python",
   "nbconvert_exporter": "python",
   "pygments_lexer": "ipython3",
   "version": "3.10.11"
  }
 },
 "nbformat": 4,
 "nbformat_minor": 4
}
