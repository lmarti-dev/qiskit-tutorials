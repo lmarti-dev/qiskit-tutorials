{
 "cells": [
  {
   "cell_type": "markdown",
   "metadata": {},
   "source": [
    "# Quantum Phase Estimation\n",
    "\n",
    "In this notebook, we'll look at one of the most useful applications of the Quantum Fourier Transform we saw last week. \n",
    "\n",
    "Hre's the problem in very simple terms: we are given some state $|\\psi\\rangle$, some unitary operator $U$, such that $U|\\psi\\rangle = e^{2\\pi i \\theta} |\\psi\\rangle$ and we want to find $\\theta$ with high accuracy. \n",
    "\n"
   ]
  },
  {
   "cell_type": "code",
   "execution_count": null,
   "metadata": {},
   "outputs": [],
   "source": [
    "%pip install qiskit[visualization] --quiet\n",
    "%pip install matplotlib --quiet"
   ]
  }
 ],
 "metadata": {
  "language_info": {
   "name": "python"
  }
 },
 "nbformat": 4,
 "nbformat_minor": 2
}
